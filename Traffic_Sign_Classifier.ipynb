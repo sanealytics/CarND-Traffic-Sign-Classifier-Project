{
 "cells": [
  {
   "cell_type": "markdown",
   "metadata": {},
   "source": [
    "# Self-Driving Car Engineer Nanodegree\n",
    "\n",
    "## Deep Learning\n",
    "\n",
    "## Project: Build a Traffic Sign Recognition Classifier\n",
    "\n",
    "In this notebook, a template is provided for you to implement your functionality in stages, which is required to successfully complete this project. If additional code is required that cannot be included in the notebook, be sure that the Python code is successfully imported and included in your submission if necessary. \n",
    "\n",
    "> **Note**: Once you have completed all of the code implementations, you need to finalize your work by exporting the iPython Notebook as an HTML document. Before exporting the notebook to html, all of the code cells need to have been run so that reviewers can see the final implementation and output. You can then export the notebook by using the menu above and navigating to  \\n\",\n",
    "    \"**File -> Download as -> HTML (.html)**. Include the finished document along with this notebook as your submission. \n",
    "\n",
    "In addition to implementing code, there is a writeup to complete. The writeup should be completed in a separate file, which can be either a markdown file or a pdf document. There is a [write up template](https://github.com/udacity/CarND-Traffic-Sign-Classifier-Project/blob/master/writeup_template.md) that can be used to guide the writing process. Completing the code template and writeup template will cover all of the [rubric points](https://review.udacity.com/#!/rubrics/481/view) for this project.\n",
    "\n",
    "The [rubric](https://review.udacity.com/#!/rubrics/481/view) contains \"Stand Out Suggestions\" for enhancing the project beyond the minimum requirements. The stand out suggestions are optional. If you decide to pursue the \"stand out suggestions\", you can include the code in this Ipython notebook and also discuss the results in the writeup file.\n",
    "\n",
    "\n",
    ">**Note:** Code and Markdown cells can be executed using the **Shift + Enter** keyboard shortcut. In addition, Markdown cells can be edited by typically double-clicking the cell to enter edit mode."
   ]
  },
  {
   "cell_type": "markdown",
   "metadata": {},
   "source": [
    "---\n",
    "## Step 0: Load The Data"
   ]
  },
  {
   "cell_type": "code",
   "execution_count": 1,
   "metadata": {
    "collapsed": false
   },
   "outputs": [],
   "source": [
    "# Load pickled data\n",
    "import pickle\n",
    "\n",
    "# TODO: Fill this in based on where you saved the training and testing data\n",
    "\n",
    "training_file =  'data/train.p'\n",
    "validation_file= 'data/valid.p'\n",
    "testing_file =   'data/test.p'\n",
    "\n",
    "with open(training_file, mode='rb') as f:\n",
    "    train = pickle.load(f)\n",
    "with open(validation_file, mode='rb') as f:\n",
    "    valid = pickle.load(f)\n",
    "with open(testing_file, mode='rb') as f:\n",
    "    test = pickle.load(f)\n",
    "    \n",
    "X_train, y_train = train['features'], train['labels']\n",
    "X_valid, y_valid = valid['features'], valid['labels']\n",
    "X_test, y_test = test['features'], test['labels']"
   ]
  },
  {
   "cell_type": "markdown",
   "metadata": {},
   "source": [
    "---\n",
    "\n",
    "## Step 1: Dataset Summary & Exploration\n",
    "\n",
    "The pickled data is a dictionary with 4 key/value pairs:\n",
    "\n",
    "- `'features'` is a 4D array containing raw pixel data of the traffic sign images, (num examples, width, height, channels).\n",
    "- `'labels'` is a 1D array containing the label/class id of the traffic sign. The file `signnames.csv` contains id -> name mappings for each id.\n",
    "- `'sizes'` is a list containing tuples, (width, height) representing the original width and height the image.\n",
    "- `'coords'` is a list containing tuples, (x1, y1, x2, y2) representing coordinates of a bounding box around the sign in the image. **THESE COORDINATES ASSUME THE ORIGINAL IMAGE. THE PICKLED DATA CONTAINS RESIZED VERSIONS (32 by 32) OF THESE IMAGES**\n",
    "\n",
    "Complete the basic data summary below. Use python, numpy and/or pandas methods to calculate the data summary rather than hard coding the results. For example, the [pandas shape method](http://pandas.pydata.org/pandas-docs/stable/generated/pandas.DataFrame.shape.html) might be useful for calculating some of the summary results. "
   ]
  },
  {
   "cell_type": "markdown",
   "metadata": {},
   "source": [
    "### Provide a Basic Summary of the Data Set Using Python, Numpy and/or Pandas"
   ]
  },
  {
   "cell_type": "code",
   "execution_count": 2,
   "metadata": {
    "collapsed": false
   },
   "outputs": [
    {
     "name": "stdout",
     "output_type": "stream",
     "text": [
      "Number of training examples = 34799\n",
      "Number of testing examples = 12630\n",
      "Image data shape = (32, 32, 3)\n",
      "Number of classes = 43\n"
     ]
    }
   ],
   "source": [
    "### Replace each question mark with the appropriate value. \n",
    "### Use python, pandas or numpy methods rather than hard coding the results\n",
    "import numpy as np\n",
    "\n",
    "# TODO: Number of training examples\n",
    "n_train = y_train.shape[0]\n",
    "\n",
    "# TODO: Number of testing examples.\n",
    "n_test = y_test.shape[0]\n",
    "\n",
    "\n",
    "# TODO: What's the shape of an traffic sign image?\n",
    "image_shape = X_train[0].shape\n",
    "\n",
    "# TODO: How many unique classes/labels there are in the dataset.\n",
    "n_classes = np.unique(y_train).shape[0]\n",
    "\n",
    "print(\"Number of training examples =\", n_train)\n",
    "print(\"Number of testing examples =\", n_test)\n",
    "print(\"Image data shape =\", image_shape)\n",
    "print(\"Number of classes =\", n_classes)"
   ]
  },
  {
   "cell_type": "markdown",
   "metadata": {},
   "source": [
    "### Include an exploratory visualization of the dataset"
   ]
  },
  {
   "cell_type": "markdown",
   "metadata": {},
   "source": [
    "Visualize the German Traffic Signs Dataset using the pickled file(s). This is open ended, suggestions include: plotting traffic sign images, plotting the count of each sign, etc.\n",
    "\n",
    "The [Matplotlib](http://matplotlib.org/) [examples](http://matplotlib.org/examples/index.html) and [gallery](http://matplotlib.org/gallery.html) pages are a great resource for doing visualizations in Python.\n",
    "\n",
    "**NOTE:** It's recommended you start with something simple first. If you wish to do more, come back to it after you've completed the rest of the sections."
   ]
  },
  {
   "cell_type": "code",
   "execution_count": 3,
   "metadata": {
    "collapsed": false
   },
   "outputs": [
    {
     "name": "stdout",
     "output_type": "stream",
     "text": [
      "7\n"
     ]
    },
    {
     "data": {
      "image/png": "[encoded data removed]",
      "text/plain": [
       "<matplotlib.figure.Figure at 0x7f2e5407e160>"
      ]
     },
     "metadata": {},
     "output_type": "display_data"
    }
   ],
   "source": [
    "### Data exploration visualization code goes here.\n",
    "### Feel free to use as many code cells as needed.\n",
    "import matplotlib.pyplot as plt\n",
    "# Visualizations will be shown in the notebook.\n",
    "%matplotlib inline\n",
    "\n",
    "import random\n",
    "index = random.randint(0, len(X_train))\n",
    "image = X_train[index].squeeze()\n",
    "\n",
    "plt.figure(figsize=(1,1))\n",
    "plt.imshow(image) #TODO\n",
    "print(y_train[index])"
   ]
  },
  {
   "cell_type": "markdown",
   "metadata": {},
   "source": [
    "----\n",
    "\n",
    "## Step 2: Design and Test a Model Architecture\n",
    "\n",
    "Design and implement a deep learning model that learns to recognize traffic signs. Train and test your model on the [German Traffic Sign Dataset](http://benchmark.ini.rub.de/?section=gtsrb&subsection=dataset).\n",
    "\n",
    "The LeNet-5 implementation shown in the [classroom](https://classroom.udacity.com/nanodegrees/nd013/parts/fbf77062-5703-404e-b60c-95b78b2f3f9e/modules/6df7ae49-c61c-4bb2-a23e-6527e69209ec/lessons/601ae704-1035-4287-8b11-e2c2716217ad/concepts/d4aca031-508f-4e0b-b493-e7b706120f81) at the end of the CNN lesson is a solid starting point. You'll have to change the number of classes and possibly the preprocessing, but aside from that it's plug and play! \n",
    "\n",
    "With the LeNet-5 solution from the lecture, you should expect a validation set accuracy of about 0.89. To meet specifications, the validation set accuracy will need to be at least 0.93. It is possible to get an even higher accuracy, but 0.93 is the minimum for a successful project submission. \n",
    "\n",
    "There are various aspects to consider when thinking about this problem:\n",
    "\n",
    "- Neural network architecture (is the network over or underfitting?)\n",
    "- Play around preprocessing techniques (normalization, rgb to grayscale, etc)\n",
    "- Number of examples per label (some have more than others).\n",
    "- Generate fake data.\n",
    "\n",
    "Here is an example of a [published baseline model on this problem](http://yann.lecun.com/exdb/publis/pdf/sermanet-ijcnn-11.pdf). It's not required to be familiar with the approach used in the paper but, it's good practice to try to read papers like these."
   ]
  },
  {
   "cell_type": "markdown",
   "metadata": {},
   "source": [
    "### Pre-process the Data Set (normalization, grayscale, etc.)"
   ]
  },
  {
   "cell_type": "markdown",
   "metadata": {},
   "source": [
    "Use the code cell (or multiple code cells, if necessary) to implement the first step of your project."
   ]
  },
  {
   "cell_type": "code",
   "execution_count": 4,
   "metadata": {
    "collapsed": true
   },
   "outputs": [],
   "source": [
    "### Preprocess the data here. Preprocessing steps could include normalization, converting to grayscale, etc.\n",
    "### Feel free to use as many code cells as needed.\n",
    "from sklearn.utils import shuffle\n",
    "\n",
    "X_train, y_train = shuffle(X_train, y_train)"
   ]
  },
  {
   "cell_type": "code",
   "execution_count": 5,
   "metadata": {
    "collapsed": false
   },
   "outputs": [
    {
     "data": {
      "text/plain": [
       "(34799, 32, 32, 3)"
      ]
     },
     "execution_count": 5,
     "metadata": {},
     "output_type": "execute_result"
    }
   ],
   "source": [
    "# Normalize\n",
    "\n",
    "mean = np.mean(X_train)\n",
    "sd = np.std(X_train)\n",
    "\n",
    "def scale(x, mean = mean, sd = sd):\n",
    "    return (x - mean)/sd\n",
    "\n",
    "def unscale(x, mean = mean, sd = sd):\n",
    "    return (x * sd) + mean\n",
    "\n",
    "scale(X_train).shape"
   ]
  },
  {
   "cell_type": "code",
   "execution_count": 6,
   "metadata": {
    "collapsed": false
   },
   "outputs": [],
   "source": [
    "def random_image_transforms(x, phase = False):\n",
    "    n = 1/5\n",
    "    toss = random.random()\n",
    "    if phase is True: # Training\n",
    "        # Randomly flip left-right\n",
    "        if toss < n:\n",
    "            flip_image = tf.image.random_flip_left_right(x)\n",
    "        else:\n",
    "            flip_image = x\n",
    "        # Randomly change brightness\n",
    "        if toss >= n and toss < 2 * n:\n",
    "            bright_image = tf.image.random_brightness(flip_image)\n",
    "        else:\n",
    "            bright_image = flip_image\n",
    "        # Randomly change hue\n",
    "        if toss >= 2 * n and toss < 3 * n:\n",
    "            saturated_image = tf.image.random_saturation(bright_image)\n",
    "        else:\n",
    "            saturated_image = bright_image\n",
    "        # Randomly change contrast\n",
    "        if toss >= 3 * n and toss < 4 * n:\n",
    "            contrast_image = tf.image.random_contrast(saturated_image)\n",
    "        else:\n",
    "            contrast_image = saturated_image\n",
    "    else:\n",
    "        contrast_image = x\n",
    "    return contrast_image"
   ]
  },
  {
   "cell_type": "markdown",
   "metadata": {},
   "source": [
    "### Model Architecture"
   ]
  },
  {
   "cell_type": "code",
   "execution_count": 7,
   "metadata": {
    "collapsed": true
   },
   "outputs": [],
   "source": [
    "import tensorflow as tf\n",
    "\n",
    "EPOCHS = 100\n",
    "BATCH_SIZE = 128"
   ]
  },
  {
   "cell_type": "code",
   "execution_count": 8,
   "metadata": {
    "collapsed": false
   },
   "outputs": [],
   "source": [
    "### Define your architecture here.\n",
    "### Feel free to use as many code cells as needed.\n",
    "\n",
    "from tensorflow.contrib.layers import flatten\n",
    "\n",
    "def LeNet(x, n_classes, n_channels):    \n",
    "    # Arguments used for tf.truncated_normal, randomly defines variables for the weights and biases for each layer\n",
    "    mu = 0\n",
    "    sigma = 0.1\n",
    "    \n",
    "    # SOLUTION: Layer 1: Convolutional. Input = 32x32x1. Output = 28x28x6.\n",
    "    conv1_W = tf.Variable(tf.truncated_normal(shape=(5, 5, n_channels, 6), mean = mu, stddev = sigma))\n",
    "    conv1_b = tf.Variable(tf.zeros(6))\n",
    "    conv1   = tf.nn.conv2d(x, conv1_W, strides=[1, 1, 1, 1], padding='VALID') + conv1_b\n",
    "    \n",
    "    # Added batchnorm\n",
    "#     bn1 = tf.contrib.layers.batch_norm(conv1, \\\n",
    "#         center=True, scale=True, \\\n",
    "#         is_training=phase, \\\n",
    "#         scope='bn')\n",
    "\n",
    "    # SOLUTION: Activation.\n",
    "    conv1 = tf.nn.relu(conv1)\n",
    "#     conv1 = tf.nn.relu(bn1) # Underfits after this.. need more cycles\n",
    "\n",
    "    # SOLUTION: Pooling. Input = 28x28x6. Output = 14x14x6.\n",
    "    # Try avg pool\n",
    "    conv1 = tf.nn.avg_pool(conv1, ksize=[1, 2, 2, 1], strides=[1, 2, 2, 1], padding='VALID')\n",
    "\n",
    "    # SOLUTION: Layer 2: Convolutional. Output = 10x10x16.\n",
    "    conv2_W = tf.Variable(tf.truncated_normal(shape=(5, 5, 6, 16), mean = mu, stddev = sigma))\n",
    "    conv2_b = tf.Variable(tf.zeros(16))\n",
    "    conv2   = tf.nn.conv2d(conv1, conv2_W, strides=[1, 1, 1, 1], padding='VALID') + conv2_b\n",
    "    \n",
    "    # SOLUTION: Activation.\n",
    "    conv2 = tf.nn.relu(conv2)\n",
    "        \n",
    "    # SOLUTION: Pooling. Input = 10x10x16. Output = 5x5x16.\n",
    "    # Try avg pool\n",
    "    conv2 = tf.nn.avg_pool(conv2, ksize=[1, 2, 2, 1], strides=[1, 2, 2, 1], padding='VALID')\n",
    "    \n",
    "    # SOLUTION: Flatten. Input = 5x5x16. Output = 400.\n",
    "    fc0   = flatten(conv2)\n",
    "\n",
    "    # SOLUTION: Layer 3: Fully Connected. Input = 400. Output = 120.\n",
    "    fc1_W = tf.Variable(tf.truncated_normal(shape=(400, 120), mean = mu, stddev = sigma))\n",
    "    fc1_b = tf.Variable(tf.zeros(120))\n",
    "    fc1   = tf.matmul(fc0, fc1_W) + fc1_b\n",
    "    \n",
    "    # SOLUTION: Activation.\n",
    "    fc1    = tf.nn.relu(fc1)\n",
    "\n",
    "    # SOLUTION: Layer 4: Fully Connected. Input = 120. Output = 84.\n",
    "    fc2_W  = tf.Variable(tf.truncated_normal(shape=(120, 84), mean = mu, stddev = sigma))\n",
    "    fc2_b  = tf.Variable(tf.zeros(84))\n",
    "    fc2    = tf.matmul(fc1, fc2_W) + fc2_b\n",
    "    \n",
    "    # SOLUTION: Activation.\n",
    "    fc2    = tf.nn.relu(fc2)\n",
    "\n",
    "    # SOLUTION: Layer 5: Fully Connected. Input = 84. Output = 43.\n",
    "    fc3_W  = tf.Variable(tf.truncated_normal(shape=(84, n_classes), mean = mu, stddev = sigma))\n",
    "    fc3_b  = tf.Variable(tf.zeros(n_classes))\n",
    "    logits = tf.matmul(fc2, fc3_W) + fc3_b\n",
    "    \n",
    "    return logits"
   ]
  },
  {
   "cell_type": "markdown",
   "metadata": {},
   "source": [
    "### Train, Validate and Test the Model"
   ]
  },
  {
   "cell_type": "markdown",
   "metadata": {},
   "source": [
    "A validation set can be used to assess how well the model is performing. A low accuracy on the training and validation\n",
    "sets imply underfitting. A high accuracy on the training set but low accuracy on the validation set implies overfitting."
   ]
  },
  {
   "cell_type": "code",
   "execution_count": 9,
   "metadata": {
    "collapsed": false
   },
   "outputs": [],
   "source": [
    "### Train your model here.\n",
    "### Calculate and report the accuracy on the training and validation set.\n",
    "### Once a final model architecture is selected, \n",
    "### the accuracy on the test set should be calculated and reported as well.\n",
    "### Feel free to use as many code cells as needed.\n",
    "x = tf.placeholder(tf.float32, (None, 32, 32, 3))\n",
    "y = tf.placeholder(tf.int32, (None))\n",
    "phase = tf.placeholder(tf.bool)\n",
    "one_hot_y = tf.one_hot(y, n_classes)"
   ]
  },
  {
   "cell_type": "code",
   "execution_count": 10,
   "metadata": {
    "collapsed": false
   },
   "outputs": [],
   "source": [
    "rate = 0.0001\n",
    "\n",
    "scaled_x = scale(x)\n",
    "gray_x = tf.image.rgb_to_grayscale(scaled_x)\n",
    "rand_x = random_image_transforms(gray_x, phase)\n",
    "logits = LeNet(rand_x, n_classes, 1)\n",
    "cross_entropy = tf.nn.softmax_cross_entropy_with_logits(labels=one_hot_y, logits=logits)\n",
    "loss_operation = tf.reduce_mean(cross_entropy)\n",
    "optimizer = tf.train.AdamOptimizer(learning_rate = rate)\n",
    "training_operation = optimizer.minimize(loss_operation)"
   ]
  },
  {
   "cell_type": "code",
   "execution_count": 11,
   "metadata": {
    "collapsed": false
   },
   "outputs": [],
   "source": [
    "correct_prediction = tf.equal(tf.argmax(logits, 1), tf.argmax(one_hot_y, 1))\n",
    "accuracy_operation = tf.reduce_mean(tf.cast(correct_prediction, tf.float32))\n",
    "saver = tf.train.Saver()\n",
    "\n",
    "def evaluate(X_data, y_data):\n",
    "    num_examples = len(X_data)\n",
    "    total_accuracy = 0\n",
    "    total_loss = 0\n",
    "    sess = tf.get_default_session()\n",
    "    for offset in range(0, num_examples, BATCH_SIZE):\n",
    "        batch_x, batch_y = X_data[offset:offset+BATCH_SIZE], y_data[offset:offset+BATCH_SIZE]\n",
    "        loss, accuracy = sess.run([loss_operation, accuracy_operation], \\\n",
    "                                  feed_dict={x: batch_x, y: batch_y, phase: False})\n",
    "        total_accuracy += (accuracy * len(batch_x))\n",
    "        total_loss += (loss * len(batch_x))\n",
    "    return total_loss / num_examples, total_accuracy / num_examples"
   ]
  },
  {
   "cell_type": "code",
   "execution_count": 12,
   "metadata": {
    "collapsed": false
   },
   "outputs": [
    {
     "name": "stdout",
     "output_type": "stream",
     "text": [
      "Training...\n",
      "\n",
      "EPOCH 1 ...\n",
      "Accuracy Training = 0.245\tValidation = 0.205\n",
      "\n",
      "EPOCH 2 ...\n",
      "Accuracy Training = 0.384\tValidation = 0.323\n",
      "\n",
      "EPOCH 3 ...\n",
      "Accuracy Training = 0.478\tValidation = 0.399\n",
      "\n",
      "EPOCH 4 ...\n",
      "Accuracy Training = 0.596\tValidation = 0.514\n",
      "\n",
      "EPOCH 5 ...\n",
      "Accuracy Training = 0.684\tValidation = 0.585\n",
      "\n",
      "EPOCH 6 ...\n",
      "Accuracy Training = 0.754\tValidation = 0.661\n",
      "\n",
      "EPOCH 7 ...\n",
      "Accuracy Training = 0.780\tValidation = 0.681\n",
      "\n",
      "EPOCH 8 ...\n",
      "Accuracy Training = 0.811\tValidation = 0.711\n",
      "\n",
      "EPOCH 9 ...\n",
      "Accuracy Training = 0.830\tValidation = 0.732\n",
      "\n",
      "EPOCH 10 ...\n",
      "Accuracy Training = 0.842\tValidation = 0.740\n",
      "\n",
      "EPOCH 11 ...\n",
      "Accuracy Training = 0.865\tValidation = 0.761\n",
      "\n",
      "EPOCH 12 ...\n",
      "Accuracy Training = 0.872\tValidation = 0.769\n",
      "\n",
      "EPOCH 13 ...\n",
      "Accuracy Training = 0.880\tValidation = 0.764\n",
      "\n",
      "EPOCH 14 ...\n",
      "Accuracy Training = 0.888\tValidation = 0.775\n",
      "\n",
      "EPOCH 15 ...\n",
      "Accuracy Training = 0.898\tValidation = 0.792\n",
      "\n",
      "EPOCH 16 ...\n",
      "Accuracy Training = 0.901\tValidation = 0.795\n",
      "\n",
      "EPOCH 17 ...\n",
      "Accuracy Training = 0.908\tValidation = 0.793\n",
      "\n",
      "EPOCH 18 ...\n",
      "Accuracy Training = 0.913\tValidation = 0.807\n",
      "\n",
      "EPOCH 19 ...\n",
      "Accuracy Training = 0.921\tValidation = 0.805\n",
      "\n",
      "EPOCH 20 ...\n",
      "Accuracy Training = 0.928\tValidation = 0.820\n",
      "\n",
      "EPOCH 21 ...\n",
      "Accuracy Training = 0.931\tValidation = 0.823\n",
      "\n",
      "EPOCH 22 ...\n",
      "Accuracy Training = 0.933\tValidation = 0.818\n",
      "\n",
      "EPOCH 23 ...\n",
      "Accuracy Training = 0.934\tValidation = 0.821\n",
      "\n",
      "EPOCH 24 ...\n",
      "Accuracy Training = 0.941\tValidation = 0.831\n",
      "\n",
      "EPOCH 25 ...\n",
      "Accuracy Training = 0.941\tValidation = 0.824\n",
      "\n",
      "EPOCH 26 ...\n",
      "Accuracy Training = 0.944\tValidation = 0.826\n",
      "\n",
      "EPOCH 27 ...\n",
      "Accuracy Training = 0.944\tValidation = 0.829\n",
      "\n",
      "EPOCH 28 ...\n",
      "Accuracy Training = 0.950\tValidation = 0.843\n",
      "\n",
      "EPOCH 29 ...\n",
      "Accuracy Training = 0.952\tValidation = 0.841\n",
      "\n",
      "EPOCH 30 ...\n",
      "Accuracy Training = 0.952\tValidation = 0.850\n",
      "\n",
      "EPOCH 31 ...\n",
      "Accuracy Training = 0.956\tValidation = 0.854\n",
      "\n",
      "EPOCH 32 ...\n",
      "Accuracy Training = 0.955\tValidation = 0.845\n",
      "\n",
      "EPOCH 33 ...\n",
      "Accuracy Training = 0.959\tValidation = 0.859\n",
      "\n",
      "EPOCH 34 ...\n",
      "Accuracy Training = 0.959\tValidation = 0.843\n",
      "\n",
      "EPOCH 35 ...\n",
      "Accuracy Training = 0.962\tValidation = 0.851\n",
      "\n",
      "EPOCH 36 ...\n",
      "Accuracy Training = 0.962\tValidation = 0.853\n",
      "\n",
      "EPOCH 37 ...\n",
      "Accuracy Training = 0.965\tValidation = 0.847\n",
      "\n",
      "EPOCH 38 ...\n",
      "Accuracy Training = 0.966\tValidation = 0.859\n",
      "\n",
      "EPOCH 39 ...\n",
      "Accuracy Training = 0.968\tValidation = 0.861\n",
      "\n",
      "EPOCH 40 ...\n",
      "Accuracy Training = 0.969\tValidation = 0.859\n",
      "\n",
      "EPOCH 41 ...\n",
      "Accuracy Training = 0.971\tValidation = 0.854\n",
      "\n",
      "EPOCH 42 ...\n",
      "Accuracy Training = 0.971\tValidation = 0.858\n",
      "\n",
      "EPOCH 43 ...\n",
      "Accuracy Training = 0.969\tValidation = 0.846\n",
      "\n",
      "EPOCH 44 ...\n",
      "Accuracy Training = 0.974\tValidation = 0.860\n",
      "\n",
      "EPOCH 45 ...\n",
      "Accuracy Training = 0.974\tValidation = 0.859\n",
      "\n",
      "EPOCH 46 ...\n",
      "Accuracy Training = 0.973\tValidation = 0.865\n",
      "\n",
      "EPOCH 47 ...\n",
      "Accuracy Training = 0.975\tValidation = 0.861\n",
      "\n",
      "EPOCH 48 ...\n",
      "Accuracy Training = 0.975\tValidation = 0.854\n",
      "\n",
      "EPOCH 49 ...\n",
      "Accuracy Training = 0.978\tValidation = 0.858\n",
      "\n",
      "EPOCH 50 ...\n",
      "Accuracy Training = 0.979\tValidation = 0.858\n",
      "\n",
      "EPOCH 51 ...\n",
      "Accuracy Training = 0.976\tValidation = 0.857\n",
      "\n",
      "EPOCH 52 ...\n",
      "Accuracy Training = 0.980\tValidation = 0.856\n",
      "\n",
      "EPOCH 53 ...\n",
      "Accuracy Training = 0.975\tValidation = 0.846\n",
      "\n",
      "EPOCH 54 ...\n",
      "Accuracy Training = 0.982\tValidation = 0.858\n",
      "\n",
      "EPOCH 55 ...\n",
      "Accuracy Training = 0.981\tValidation = 0.858\n",
      "\n",
      "EPOCH 56 ...\n",
      "Accuracy Training = 0.982\tValidation = 0.857\n",
      "\n",
      "EPOCH 57 ...\n",
      "Accuracy Training = 0.983\tValidation = 0.860\n",
      "\n",
      "EPOCH 58 ...\n",
      "Accuracy Training = 0.982\tValidation = 0.863\n",
      "\n",
      "EPOCH 59 ...\n",
      "Accuracy Training = 0.984\tValidation = 0.858\n",
      "\n",
      "EPOCH 60 ...\n",
      "Accuracy Training = 0.983\tValidation = 0.858\n",
      "\n",
      "EPOCH 61 ...\n",
      "Accuracy Training = 0.984\tValidation = 0.858\n",
      "\n",
      "EPOCH 62 ...\n",
      "Accuracy Training = 0.984\tValidation = 0.861\n",
      "\n",
      "EPOCH 63 ...\n",
      "Accuracy Training = 0.987\tValidation = 0.863\n",
      "\n",
      "EPOCH 64 ...\n",
      "Accuracy Training = 0.987\tValidation = 0.866\n",
      "\n",
      "EPOCH 65 ...\n",
      "Accuracy Training = 0.987\tValidation = 0.859\n",
      "\n",
      "EPOCH 66 ...\n",
      "Accuracy Training = 0.987\tValidation = 0.861\n",
      "\n",
      "EPOCH 67 ...\n",
      "Accuracy Training = 0.989\tValidation = 0.861\n",
      "\n",
      "EPOCH 68 ...\n",
      "Accuracy Training = 0.986\tValidation = 0.863\n",
      "\n",
      "EPOCH 69 ...\n",
      "Accuracy Training = 0.988\tValidation = 0.866\n",
      "\n",
      "EPOCH 70 ...\n",
      "Accuracy Training = 0.988\tValidation = 0.865\n",
      "\n",
      "EPOCH 71 ...\n",
      "Accuracy Training = 0.990\tValidation = 0.859\n",
      "\n",
      "EPOCH 72 ...\n",
      "Accuracy Training = 0.991\tValidation = 0.862\n",
      "\n",
      "EPOCH 73 ...\n",
      "Accuracy Training = 0.989\tValidation = 0.863\n",
      "\n",
      "EPOCH 74 ...\n",
      "Accuracy Training = 0.989\tValidation = 0.859\n",
      "\n",
      "EPOCH 75 ...\n",
      "Accuracy Training = 0.992\tValidation = 0.867\n",
      "\n",
      "EPOCH 76 ...\n",
      "Accuracy Training = 0.992\tValidation = 0.868\n",
      "\n",
      "EPOCH 77 ...\n",
      "Accuracy Training = 0.991\tValidation = 0.859\n",
      "\n",
      "EPOCH 78 ...\n",
      "Accuracy Training = 0.993\tValidation = 0.863\n",
      "\n",
      "EPOCH 79 ...\n",
      "Accuracy Training = 0.992\tValidation = 0.866\n",
      "\n",
      "EPOCH 80 ...\n",
      "Accuracy Training = 0.992\tValidation = 0.867\n",
      "\n",
      "EPOCH 81 ...\n",
      "Accuracy Training = 0.994\tValidation = 0.867\n",
      "\n",
      "EPOCH 82 ...\n",
      "Accuracy Training = 0.994\tValidation = 0.865\n",
      "\n",
      "EPOCH 83 ...\n",
      "Accuracy Training = 0.991\tValidation = 0.856\n",
      "\n",
      "EPOCH 84 ...\n",
      "Accuracy Training = 0.994\tValidation = 0.863\n",
      "\n",
      "EPOCH 85 ...\n",
      "Accuracy Training = 0.993\tValidation = 0.865\n",
      "\n",
      "EPOCH 86 ...\n",
      "Accuracy Training = 0.993\tValidation = 0.863\n",
      "\n",
      "EPOCH 87 ...\n",
      "Accuracy Training = 0.994\tValidation = 0.862\n",
      "\n",
      "EPOCH 88 ...\n",
      "Accuracy Training = 0.993\tValidation = 0.864\n",
      "\n",
      "EPOCH 89 ...\n",
      "Accuracy Training = 0.995\tValidation = 0.861\n",
      "\n",
      "EPOCH 90 ...\n",
      "Accuracy Training = 0.995\tValidation = 0.863\n",
      "\n",
      "EPOCH 91 ...\n",
      "Accuracy Training = 0.995\tValidation = 0.866\n",
      "\n",
      "EPOCH 92 ...\n",
      "Accuracy Training = 0.995\tValidation = 0.860\n",
      "\n",
      "EPOCH 93 ...\n",
      "Accuracy Training = 0.995\tValidation = 0.864\n",
      "\n",
      "EPOCH 94 ...\n",
      "Accuracy Training = 0.996\tValidation = 0.866\n",
      "\n",
      "EPOCH 95 ...\n",
      "Accuracy Training = 0.995\tValidation = 0.861\n",
      "\n",
      "EPOCH 96 ...\n",
      "Accuracy Training = 0.996\tValidation = 0.863\n",
      "\n",
      "EPOCH 97 ...\n",
      "Accuracy Training = 0.997\tValidation = 0.863\n",
      "\n",
      "EPOCH 98 ...\n",
      "Accuracy Training = 0.997\tValidation = 0.868\n",
      "\n",
      "EPOCH 99 ...\n",
      "Accuracy Training = 0.997\tValidation = 0.864\n",
      "\n",
      "EPOCH 100 ...\n",
      "Accuracy Training = 0.997\tValidation = 0.869\n",
      "\n",
      "Model saved\n"
     ]
    }
   ],
   "source": [
    "# Actual training\n",
    "train_loss_history = []\n",
    "valid_loss_history = []\n",
    "\n",
    "with tf.Session() as sess:\n",
    "    sess.run(tf.global_variables_initializer())\n",
    "    num_examples = len(X_train)\n",
    "    \n",
    "    print(\"Training...\")\n",
    "    print()\n",
    "    for i in range(EPOCHS):\n",
    "        X_train, y_train = shuffle(X_train, y_train)\n",
    "        for offset in range(0, num_examples, BATCH_SIZE):\n",
    "            end = offset + BATCH_SIZE\n",
    "            batch_x, batch_y = X_train[offset:end], y_train[offset:end]\n",
    "            sess.run(training_operation, feed_dict={x: batch_x, y: batch_y, phase: True})\n",
    "            \n",
    "        train_loss, training_accuracy = evaluate(X_train, y_train)\n",
    "        train_loss_history.append(train_loss)    \n",
    "        validation_loss, validation_accuracy = evaluate(X_valid, y_valid)\n",
    "        valid_loss_history.append(validation_loss)   \n",
    "        print(\"EPOCH {} ...\".format(i+1))\n",
    "        print(\"Accuracy Training = {:.3f}\\tValidation = {:.3f}\".format(training_accuracy, validation_accuracy))\n",
    "        print()\n",
    "        \n",
    "    saver.save(sess, './traffic')\n",
    "    print(\"Model saved\")"
   ]
  },
  {
   "cell_type": "code",
   "execution_count": null,
   "metadata": {
    "collapsed": false
   },
   "outputs": [],
   "source": [
    "# Learning curves\n",
    "loss_plot = plt.subplot(2,1,1)\n",
    "loss_plot.set_title('Loss')\n",
    "loss_plot.plot(train_loss_history, 'r', label='Training Loss')\n",
    "loss_plot.plot(valid_loss_history, 'b', label='Validation Loss')\n",
    "loss_plot.set_xlim([0, EPOCHS])\n",
    "loss_plot.legend(loc=4)"
   ]
  },
  {
   "cell_type": "code",
   "execution_count": null,
   "metadata": {
    "collapsed": false
   },
   "outputs": [],
   "source": [
    "# Only do this once\n",
    "with tf.Session() as sess:\n",
    "    saver.restore(sess, tf.train.latest_checkpoint('.'))\n",
    "\n",
    "    test_loss, test_accuracy = evaluate(X_test, y_test)\n",
    "    print(\"Test Accuracy = {:.3f}\".format(test_accuracy))"
   ]
  },
  {
   "cell_type": "markdown",
   "metadata": {},
   "source": [
    "---\n",
    "\n",
    "## Step 3: Test a Model on New Images\n",
    "\n",
    "To give yourself more insight into how your model is working, download at least five pictures of German traffic signs from the web and use your model to predict the traffic sign type.\n",
    "\n",
    "You may find `signnames.csv` useful as it contains mappings from the class id (integer) to the actual sign name."
   ]
  },
  {
   "cell_type": "markdown",
   "metadata": {},
   "source": [
    "### Load and Output the Images"
   ]
  },
  {
   "cell_type": "code",
   "execution_count": null,
   "metadata": {
    "collapsed": false
   },
   "outputs": [],
   "source": [
    "import glob, cv2\n",
    "fig,axs = plt.subplots(2,4, figsize=(5,2))\n",
    "fig.subplots_adjust(hspace = .8, wspace=.5)\n",
    "axs = axs.ravel()\n",
    "\n",
    "candidate_images = []\n",
    "\n",
    "for i, img in enumerate(glob.glob('data/newdata/*.jpg')):\n",
    "    image = cv2.imread(img)\n",
    "    axs[i].axis('off')\n",
    "    axs[i].imshow(cv2.cvtColor(image, cv2.COLOR_BGR2RGB))\n",
    "    image_resized = cv2.resize(image, (32, 32), interpolation = cv2.INTER_CUBIC)\n",
    "    candidate_images.append(image_resized)\n",
    "\n",
    "candidate_images = np.asarray(candidate_images, dtype=object)\n",
    "\n",
    "#candidate_images_normalized = candidate_images/255.0 - 0.5\n",
    "\n",
    "print(candidate_images.shape)"
   ]
  },
  {
   "cell_type": "code",
   "execution_count": null,
   "metadata": {
    "collapsed": true
   },
   "outputs": [],
   "source": [
    "candidate_labels = [28, 27, 1, 0, 11, 1, 29]"
   ]
  },
  {
   "cell_type": "code",
   "execution_count": null,
   "metadata": {
    "collapsed": false
   },
   "outputs": [],
   "source": [
    "import pandas as pd\n",
    "sign_names = pd.read_csv('signnames.csv', index_col='ClassId')\n",
    "sign_names.index\n",
    "sign_names.loc[candidate_labels]"
   ]
  },
  {
   "cell_type": "markdown",
   "metadata": {},
   "source": [
    "### Predict the Sign Type for Each Image"
   ]
  },
  {
   "cell_type": "code",
   "execution_count": null,
   "metadata": {
    "collapsed": true
   },
   "outputs": [],
   "source": [
    "### Run the predictions here and use the model to output the prediction for each image.\n",
    "### Make sure to pre-process the images with the same pre-processing pipeline used earlier.\n",
    "### Feel free to use as many code cells as needed."
   ]
  },
  {
   "cell_type": "code",
   "execution_count": null,
   "metadata": {
    "collapsed": false
   },
   "outputs": [],
   "source": [
    "softmax_logits = tf.nn.softmax(logits)\n",
    "\n",
    "with tf.Session() as sess:\n",
    "    saver.restore(sess, tf.train.latest_checkpoint('.'))\n",
    "    predicted_logits = sess.run(logits, feed_dict={x: np.array(candidate_images), phase: False})\n",
    "    # or softmax_logits?\n",
    "\n",
    "predicted_labels = np.argmax(predicted_logits, axis=1)\n",
    "print(predicted_labels)\n",
    "sign_names.loc[predicted_labels]\n"
   ]
  },
  {
   "cell_type": "markdown",
   "metadata": {},
   "source": [
    "### Analyze Performance"
   ]
  },
  {
   "cell_type": "code",
   "execution_count": null,
   "metadata": {
    "collapsed": true
   },
   "outputs": [],
   "source": [
    "### Calculate the accuracy for these 5 new images. \n",
    "### For example, if the model predicted 1 out of 5 signs correctly, it's 20% accurate on these new images."
   ]
  },
  {
   "cell_type": "code",
   "execution_count": null,
   "metadata": {
    "collapsed": false
   },
   "outputs": [],
   "source": [
    "with tf.Session() as sess:\n",
    "    saver.restore(sess, tf.train.latest_checkpoint('.'))\n",
    "\n",
    "    test_loss, test_accuracy = evaluate(candidate_images, candidate_labels)\n",
    "    print(\"Test Accuracy = {:.3f}\".format(test_accuracy))\n",
    "    "
   ]
  },
  {
   "cell_type": "markdown",
   "metadata": {},
   "source": [
    "### Output Top 5 Softmax Probabilities For Each Image Found on the Web"
   ]
  },
  {
   "cell_type": "markdown",
   "metadata": {},
   "source": [
    "For each of the new images, print out the model's softmax probabilities to show the **certainty** of the model's predictions (limit the output to the top 5 probabilities for each image). [`tf.nn.top_k`](https://www.tensorflow.org/versions/r0.12/api_docs/python/nn.html#top_k) could prove helpful here. \n",
    "\n",
    "The example below demonstrates how tf.nn.top_k can be used to find the top k predictions for each image.\n",
    "\n",
    "`tf.nn.top_k` will return the values and indices (class ids) of the top k predictions. So if k=3, for each sign, it'll return the 3 largest probabilities (out of a possible 43) and the correspoding class ids.\n",
    "\n",
    "Take this numpy array as an example. The values in the array represent predictions. The array contains softmax probabilities for five candidate images with six possible classes. `tk.nn.top_k` is used to choose the three classes with the highest probability:\n",
    "\n",
    "```\n",
    "# (5, 6) array\n",
    "a = np.array([[ 0.24879643,  0.07032244,  0.12641572,  0.34763842,  0.07893497,\n",
    "         0.12789202],\n",
    "       [ 0.28086119,  0.27569815,  0.08594638,  0.0178669 ,  0.18063401,\n",
    "         0.15899337],\n",
    "       [ 0.26076848,  0.23664738,  0.08020603,  0.07001922,  0.1134371 ,\n",
    "         0.23892179],\n",
    "       [ 0.11943333,  0.29198961,  0.02605103,  0.26234032,  0.1351348 ,\n",
    "         0.16505091],\n",
    "       [ 0.09561176,  0.34396535,  0.0643941 ,  0.16240774,  0.24206137,\n",
    "         0.09155967]])\n",
    "```\n",
    "\n",
    "Running it through `sess.run(tf.nn.top_k(tf.constant(a), k=3))` produces:\n",
    "\n",
    "```\n",
    "TopKV2(values=array([[ 0.34763842,  0.24879643,  0.12789202],\n",
    "       [ 0.28086119,  0.27569815,  0.18063401],\n",
    "       [ 0.26076848,  0.23892179,  0.23664738],\n",
    "       [ 0.29198961,  0.26234032,  0.16505091],\n",
    "       [ 0.34396535,  0.24206137,  0.16240774]]), indices=array([[3, 0, 5],\n",
    "       [0, 1, 4],\n",
    "       [0, 5, 1],\n",
    "       [1, 3, 5],\n",
    "       [1, 4, 3]], dtype=int32))\n",
    "```\n",
    "\n",
    "Looking just at the first row we get `[ 0.34763842,  0.24879643,  0.12789202]`, you can confirm these are the 3 largest probabilities in `a`. You'll also notice `[3, 0, 5]` are the corresponding indices."
   ]
  },
  {
   "cell_type": "code",
   "execution_count": null,
   "metadata": {
    "collapsed": false
   },
   "outputs": [],
   "source": [
    "### Print out the top five softmax probabilities for the predictions on the German traffic sign images found on the web. \n",
    "### Feel free to use as many code cells as needed.\n",
    "top_k = tf.nn.top_k(softmax_logits, k=5)\n",
    "one_hot_candidate_labels = tf.one_hot(candidate_labels, n_classes)\n",
    "with tf.Session() as sess:\n",
    "    saver.restore(sess, tf.train.latest_checkpoint('.'))\n",
    "    top_k_output =  sess.run(top_k, feed_dict={x: np.array(candidate_images), phase: False})\n",
    "    \n",
    "print(top_k_output)"
   ]
  },
  {
   "cell_type": "code",
   "execution_count": null,
   "metadata": {
    "collapsed": false
   },
   "outputs": [],
   "source": [
    "for i, candidate_label in enumerate(candidate_labels):\n",
    "    print('\\nexpected\\t', sign_names.loc[candidate_label]['SignName'])\n",
    "    print(sign_names.loc[top_k_output.indices[i]])\n"
   ]
  },
  {
   "cell_type": "markdown",
   "metadata": {},
   "source": [
    "---\n",
    "\n",
    "## Step 4: Visualize the Neural Network's State with Test Images\n",
    "\n",
    " This Section is not required to complete but acts as an additional excersise for understaning the output of a neural network's weights. While neural networks can be a great learning device they are often referred to as a black box. We can understand what the weights of a neural network look like better by plotting their feature maps. After successfully training your neural network you can see what it's feature maps look like by plotting the output of the network's weight layers in response to a test stimuli image. From these plotted feature maps, it's possible to see what characteristics of an image the network finds interesting. For a sign, maybe the inner network feature maps react with high activation to the sign's boundary outline or to the contrast in the sign's painted symbol.\n",
    "\n",
    " Provided for you below is the function code that allows you to get the visualization output of any tensorflow weight layer you want. The inputs to the function should be a stimuli image, one used during training or a new one you provided, and then the tensorflow variable name that represents the layer's state during the training process, for instance if you wanted to see what the [LeNet lab's](https://classroom.udacity.com/nanodegrees/nd013/parts/fbf77062-5703-404e-b60c-95b78b2f3f9e/modules/6df7ae49-c61c-4bb2-a23e-6527e69209ec/lessons/601ae704-1035-4287-8b11-e2c2716217ad/concepts/d4aca031-508f-4e0b-b493-e7b706120f81) feature maps looked like for it's second convolutional layer you could enter conv2 as the tf_activation variable.\n",
    "\n",
    "For an example of what feature map outputs look like, check out NVIDIA's results in their paper [End-to-End Deep Learning for Self-Driving Cars](https://devblogs.nvidia.com/parallelforall/deep-learning-self-driving-cars/) in the section Visualization of internal CNN State. NVIDIA was able to show that their network's inner weights had high activations to road boundary lines by comparing feature maps from an image with a clear path to one without. Try experimenting with a similar test to show that your trained network's weights are looking for interesting features, whether it's looking at differences in feature maps from images with or without a sign, or even what feature maps look like in a trained network vs a completely untrained one on the same sign image.\n",
    "\n",
    "<figure>\n",
    " <img src=\"visualize_cnn.png\" width=\"380\" alt=\"Combined Image\" />\n",
    " <figcaption>\n",
    " <p></p> \n",
    " <p style=\"text-align: center;\"> Your output should look something like this (above)</p> \n",
    " </figcaption>\n",
    "</figure>\n",
    " <p></p> \n"
   ]
  },
  {
   "cell_type": "code",
   "execution_count": null,
   "metadata": {
    "collapsed": true
   },
   "outputs": [],
   "source": [
    "### Visualize your network's feature maps here.\n",
    "### Feel free to use as many code cells as needed.\n",
    "\n",
    "# image_input: the test image being fed into the network to produce the feature maps\n",
    "# tf_activation: should be a tf variable name used during your training procedure that represents the calculated state of a specific weight layer\n",
    "# activation_min/max: can be used to view the activation contrast in more detail, by default matplot sets min and max to the actual min and max values of the output\n",
    "# plt_num: used to plot out multiple different weight feature map sets on the same block, just extend the plt number for each new feature map entry\n",
    "\n",
    "def outputFeatureMap(image_input, tf_activation, activation_min=-1, activation_max=-1 ,plt_num=1):\n",
    "    # Here make sure to preprocess your image_input in a way your network expects\n",
    "    # with size, normalization, ect if needed\n",
    "    # image_input =\n",
    "    # Note: x should be the same name as your network's tensorflow data placeholder variable\n",
    "    # If you get an error tf_activation is not defined it maybe having trouble accessing the variable from inside a function\n",
    "    activation = tf_activation.eval(session=sess,feed_dict={x : image_input})\n",
    "    featuremaps = activation.shape[3]\n",
    "    plt.figure(plt_num, figsize=(15,15))\n",
    "    for featuremap in range(featuremaps):\n",
    "        plt.subplot(6,8, featuremap+1) # sets the number of feature maps to show on each row and column\n",
    "        plt.title('FeatureMap ' + str(featuremap)) # displays the feature map number\n",
    "        if activation_min != -1 & activation_max != -1:\n",
    "            plt.imshow(activation[0,:,:, featuremap], interpolation=\"nearest\", vmin =activation_min, vmax=activation_max, cmap=\"gray\")\n",
    "        elif activation_max != -1:\n",
    "            plt.imshow(activation[0,:,:, featuremap], interpolation=\"nearest\", vmax=activation_max, cmap=\"gray\")\n",
    "        elif activation_min !=-1:\n",
    "            plt.imshow(activation[0,:,:, featuremap], interpolation=\"nearest\", vmin=activation_min, cmap=\"gray\")\n",
    "        else:\n",
    "            plt.imshow(activation[0,:,:, featuremap], interpolation=\"nearest\", cmap=\"gray\")"
   ]
  },
  {
   "cell_type": "markdown",
   "metadata": {},
   "source": [
    "### Question 9\n",
    "\n",
    "Discuss how you used the visual output of your trained network's feature maps to show that it had learned to look for interesting characteristics in traffic sign images\n"
   ]
  },
  {
   "cell_type": "markdown",
   "metadata": {},
   "source": [
    "**Answer:**"
   ]
  },
  {
   "cell_type": "markdown",
   "metadata": {},
   "source": [
    "> **Note**: Once you have completed all of the code implementations and successfully answered each question above, you may finalize your work by exporting the iPython Notebook as an HTML document. You can do this by using the menu above and navigating to  \\n\",\n",
    "    \"**File -> Download as -> HTML (.html)**. Include the finished document along with this notebook as your submission."
   ]
  },
  {
   "cell_type": "markdown",
   "metadata": {},
   "source": [
    "### Project Writeup\n",
    "\n",
    "Once you have completed the code implementation, document your results in a project writeup using this [template](https://github.com/udacity/CarND-Traffic-Sign-Classifier-Project/blob/master/writeup_template.md) as a guide. The writeup can be in a markdown or pdf file. "
   ]
  }
 ],
 "metadata": {
  "anaconda-cloud": {},
  "kernelspec": {
   "display_name": "Python 3",
   "language": "python",
   "name": "python3"
  },
  "language_info": {
   "codemirror_mode": {
    "name": "ipython",
    "version": 3
   },
   "file_extension": ".py",
   "mimetype": "text/x-python",
   "name": "python",
   "nbconvert_exporter": "python",
   "pygments_lexer": "ipython3",
   "version": "3.5.2"
  },
  "widgets": {
   "state": {},
   "version": "1.1.2"
  }
 },
 "nbformat": 4,
 "nbformat_minor": 1
}
